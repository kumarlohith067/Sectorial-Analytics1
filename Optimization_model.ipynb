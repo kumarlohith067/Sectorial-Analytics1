{
  "nbformat": 4,
  "nbformat_minor": 0,
  "metadata": {
    "colab": {
      "provenance": []
    },
    "kernelspec": {
      "name": "python3",
      "display_name": "Python 3"
    },
    "language_info": {
      "name": "python"
    }
  },
  "cells": [
    {
      "cell_type": "code",
      "source": [
        "pip install pulp\n"
      ],
      "metadata": {
        "colab": {
          "base_uri": "https://localhost:8080/"
        },
        "id": "RbmXYKrduPqj",
        "outputId": "e0a84c5c-4627-4b6d-a99e-4313e4e82e87"
      },
      "execution_count": 4,
      "outputs": [
        {
          "output_type": "stream",
          "name": "stdout",
          "text": [
            "Collecting pulp\n",
            "  Downloading PuLP-2.8.0-py3-none-any.whl (17.7 MB)\n",
            "\u001b[2K     \u001b[90m━━━━━━━━━━━━━━━━━━━━━━━━━━━━━━━━━━━━━━━━\u001b[0m \u001b[32m17.7/17.7 MB\u001b[0m \u001b[31m33.8 MB/s\u001b[0m eta \u001b[36m0:00:00\u001b[0m\n",
            "\u001b[?25hInstalling collected packages: pulp\n",
            "Successfully installed pulp-2.8.0\n"
          ]
        }
      ]
    },
    {
      "cell_type": "code",
      "source": [
        "import pulp\n",
        "\n",
        "# Define marketing channels (consider replacing with relevant categories)\n",
        "channels = ['Traditional marketing', 'Digital Marketing']\n",
        "\n",
        "# Define channel reach (hypothetical data)\n",
        "reach = {'Traditional marketing': 250000, 'Digital Marketing': 5000}\n",
        "\n",
        "# Define budget limits for each channel\n",
        "budget_limits = {'Traditional marketing': 240000, 'Digital Marketing': 8000}\n",
        "\n",
        "# Define awareness generated per unit spent (hypothetical data)\n",
        "awareness_per_unit = {'Traditional marketing': 0.2, 'Digital Marketing': 0.3}\n",
        "\n",
        "# Define the optimization problem\n",
        "prob = pulp.LpProblem(\"Marketing_Awareness_Campaign\", pulp.LpMaximize)\n",
        "\n",
        "# Define decision variables\n",
        "allocation = pulp.LpVariable.dicts(\"Allocation\", channels, lowBound=0, cat='Continuous')\n",
        "\n",
        "# Define objective function: Maximize total awareness generated\n",
        "prob += pulp.lpSum([reach[channel] * awareness_per_unit[channel] * allocation[channel] for channel in channels])\n",
        "\n",
        "# Define budget constraint\n",
        "for channel in channels:\n",
        "  prob += allocation[channel] <= budget_limits[channel]\n",
        "\n",
        "# Solve the problem\n",
        "prob.solve()\n",
        "\n",
        "# Print the results\n",
        "print(\"Optimal Budget Allocation:\")\n",
        "for channel in channels:\n",
        "  print(f\"{channel}: ${allocation[channel].varValue:.2f}\")\n",
        "\n",
        "print(f\"Total Awareness Generated: {pulp.value(prob.objective):.2f}\")\n"
      ],
      "metadata": {
        "colab": {
          "base_uri": "https://localhost:8080/"
        },
        "id": "tLk3V0d3u5Q5",
        "outputId": "c8b27d9e-37a5-4fa3-9867-78838d1333ff"
      },
      "execution_count": 10,
      "outputs": [
        {
          "output_type": "stream",
          "name": "stdout",
          "text": [
            "Optimal Budget Allocation:\n",
            "Traditional marketing: $240000.00\n",
            "Digital Marketing: $8000.00\n",
            "Total Awareness Generated: 12012000000.00\n"
          ]
        }
      ]
    },
    {
      "cell_type": "code",
      "source": [
        "import pulp\n",
        "\n",
        "# Define marketing channels\n",
        "channels = ['Traditional marketing', 'Digital Marketing']\n",
        "\n",
        "# Get user input for channel effectiveness\n",
        "effectiveness = {}\n",
        "for channel in channels:\n",
        "    effectiveness[channel] = float(input(f\"Enter effectiveness for {channel} (as a decimal): \"))\n",
        "\n",
        "# Get user input for budget limits\n",
        "budget_limits = {}\n",
        "for channel in channels:\n",
        "    budget_limits[channel] = float(input(f\"Enter budget limit for {channel}: \"))\n",
        "\n",
        "# Get user input for ROI\n",
        "roi = {}\n",
        "for channel in channels:\n",
        "    roi[channel] = float(input(f\"Enter ROI for {channel}: \"))\n",
        "\n",
        "# Define the optimization problem\n",
        "prob = pulp.LpProblem(\"Marketing_Budget_Allocation\", pulp.LpMaximize)\n",
        "\n",
        "# Define decision variables\n",
        "allocation = pulp.LpVariable.dicts(\"Allocation\", channels, lowBound=0, cat='Continuous')\n",
        "\n",
        "# Define objective function: Maximize ROI\n",
        "prob += pulp.lpSum([roi[channel] * allocation[channel] for channel in channels])\n",
        "\n",
        "# Define budget constraint\n",
        "for channel in channels:\n",
        "    prob += allocation[channel] <= budget_limits[channel]\n",
        "\n",
        "# Solve the problem\n",
        "prob.solve()\n",
        "\n",
        "# Print the results\n",
        "print(\"Optimal Budget Allocation:\")\n",
        "for channel in channels:\n",
        "    print(f\"{channel}: ${allocation[channel].varValue:.2f}\")\n",
        "\n",
        "print(f\"Total ROI: ${pulp.value(prob.objective):.2f}\")"
      ],
      "metadata": {
        "colab": {
          "base_uri": "https://localhost:8080/"
        },
        "id": "vQAS1KPgu8pJ",
        "outputId": "8f7fcd92-66e4-4eb2-f693-1296932d3bda"
      },
      "execution_count": 12,
      "outputs": [
        {
          "output_type": "stream",
          "name": "stdout",
          "text": [
            "Enter effectiveness for Traditional marketing (as a decimal): 0.6\n",
            "Enter effectiveness for Digital Marketing (as a decimal): 0.4\n",
            "Enter budget limit for Traditional marketing: 250000\n",
            "Enter budget limit for Digital Marketing: 80000\n",
            "Enter ROI for Traditional marketing: 0.6\n",
            "Enter ROI for Digital Marketing: 2\n",
            "Optimal Budget Allocation:\n",
            "Traditional marketing: $250000.00\n",
            "Digital Marketing: $80000.00\n",
            "Total ROI: $310000.00\n"
          ]
        }
      ]
    },
    {
      "cell_type": "code",
      "source": [],
      "metadata": {
        "id": "HgMiteMkwlMO"
      },
      "execution_count": null,
      "outputs": []
    }
  ]
}